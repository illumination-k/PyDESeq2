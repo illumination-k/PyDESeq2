{
  "cells": [
    {
      "cell_type": "code",
      "execution_count": null,
      "metadata": {
        "collapsed": false
      },
      "outputs": [],
      "source": [
        "%matplotlib inline"
      ]
    },
    {
      "cell_type": "markdown",
      "metadata": {},
      "source": [
        "\n# A simple PyDESeq2 workflow\n\nIn this example, we show how to perform a simple differential expression analysis on bulk\nRNAseq data, using PyDESeq2.\n    :depth: 3\n\nWe start by importing required packages and setting up an optional path to save results.\n"
      ]
    },
    {
      "cell_type": "code",
      "execution_count": null,
      "metadata": {
        "collapsed": false
      },
      "outputs": [],
      "source": [
        "import os\nimport pickle as pkl\n\nfrom pydeseq2.dds import DeseqDataSet\nfrom pydeseq2.ds import DeseqStats\nfrom pydeseq2.utils import load_example_data\n\nSAVE = False  # whether to save the outputs of this notebook\n\nif SAVE:\n    # Replace this with the path to directory where you would like results to be saved\n    OUTPUT_PATH = \"../output_files/synthetic_example\"\n    os.makedirs(OUTPUT_PATH, exist_ok=True)  # Create path if it doesn't exist"
      ]
    },
    {
      "cell_type": "markdown",
      "metadata": {},
      "source": [
        "## Data loading\n\nTo perform differential expression analysis (DEA), PyDESeq2 requires two types of\ninputs:\n\n  * A count matrix of shape 'number of samples' x 'number of genes', containing\n    read counts (non-negative integers),\n  * Clinical data (or \"column\" data) of shape 'number of samples' x\n    'number of variables', containing sample annotations that will be used\n    to split the data in cohorts.\n\nBoth should be provided as [pandas dataframes](https://pandas.pydata.org/docs/reference/api/pandas.DataFrame.html).\n\n.. currentmodule:: pydeseq2\n\nTo illustrate the required data format, we load a synthetic example dataset that may be\nobtained through PyDESeq2's API using :func:`utils.load_example_data`.\nYou may replace it with your own dataset.\n\n"
      ]
    },
    {
      "cell_type": "code",
      "execution_count": null,
      "metadata": {
        "collapsed": false
      },
      "outputs": [],
      "source": [
        "counts_df = load_example_data(\n    modality=\"raw_counts\",\n    dataset=\"synthetic\",\n    debug=False,\n)\n\nclinical_df = load_example_data(\n    modality=\"clinical\",\n    dataset=\"synthetic\",\n    debug=False,\n)\n\nprint(counts_df)"
      ]
    },
    {
      "cell_type": "code",
      "execution_count": null,
      "metadata": {
        "collapsed": false
      },
      "outputs": [],
      "source": [
        "print(clinical_df)"
      ]
    },
    {
      "cell_type": "markdown",
      "metadata": {},
      "source": [
        "In this example, the clinical data contains two columns, ``condition`` and ``group``,\nrepresenting two types of bi-level annotations. In the first part, we will only use the\n``condition`` factor. Later on, we'll see how to use both the `condition` and the\n``group`` factors in our analysis (see `multifactor_ref`).\n\n"
      ]
    },
    {
      "cell_type": "markdown",
      "metadata": {},
      "source": [
        "### Data filtering\n\nBefore proceeding with DEA, it is good practice to preprocess your data, e.g. to remove\nsamples for which annotations are missing and exclude genes with very low levels of\nexpression. This is not necessary in the case of our synthetic data, but don't forget\nthis step if you are using real data. To this end you can use the code below.\n\nWe start by removing samples for which ``condition`` is ``NaN``. If you are using\nanother dataset, do not forget to change \"condition\" for the column of ``clinical_df``\nyou wish to use as a design factor in your analysis.\n\n"
      ]
    },
    {
      "cell_type": "code",
      "execution_count": null,
      "metadata": {
        "collapsed": false
      },
      "outputs": [],
      "source": [
        "samples_to_keep = ~clinical_df.condition.isna()\ncounts_df = counts_df.loc[samples_to_keep]\nclinical_df = clinical_df.loc[samples_to_keep]"
      ]
    },
    {
      "cell_type": "markdown",
      "metadata": {},
      "source": [
        "<div class=\"alert alert-info\"><h4>Note</h4><p>In the case where the design factor contains ``NaN`` entries, PyDESeq2 will throw an\n  error when intializing a :class:`DeseqDataSet <dds.DeseqDataSet>`.</p></div>\n\n"
      ]
    },
    {
      "cell_type": "markdown",
      "metadata": {},
      "source": [
        "Next, we filter out genes that have less than 10 read counts in total. Note again that\nthere are no such genes in this synthetic dataset.\n\n"
      ]
    },
    {
      "cell_type": "code",
      "execution_count": null,
      "metadata": {
        "collapsed": false
      },
      "outputs": [],
      "source": [
        "genes_to_keep = counts_df.columns[counts_df.sum(axis=0) >= 10]\ncounts_df = counts_df[genes_to_keep]"
      ]
    },
    {
      "cell_type": "markdown",
      "metadata": {},
      "source": [
        "Now that we have loaded and filtered our data, we may proceed with the differential\nanalysis.\n\n"
      ]
    },
    {
      "cell_type": "markdown",
      "metadata": {},
      "source": [
        "## Single factor analysis\n\nIn this first analysis, we ignore the ``group`` variable and use the ``condition``\ncolumn as our design factor. That is, we compare gene expressions of samples that have\n``condition B`` to those that have ``condition A``.\n\n\n"
      ]
    },
    {
      "cell_type": "markdown",
      "metadata": {},
      "source": [
        ".. currentmodule:: pydeseq2.dds\n\n### Read counts modeling with the :class:`DeseqDataSet` class\n\nWe start by creating a :class:`DeseqDataSet`\nobject from the count and clinical data.\nA :class:`DeseqDataSet` fits dispersion and\nlog-fold change (LFC) parameters from the data, and stores them.\n\n\n"
      ]
    },
    {
      "cell_type": "code",
      "execution_count": null,
      "metadata": {
        "collapsed": false
      },
      "outputs": [],
      "source": [
        "dds = DeseqDataSet(\n    counts_df,\n    clinical_df,\n    design_factors=\"condition\",\n    refit_cooks=True,\n    n_cpus=8,\n)"
      ]
    },
    {
      "cell_type": "markdown",
      "metadata": {},
      "source": [
        "A :class:`DeseqDataSet` has two mandatory\narguments: a ``counts`` and a ``clinical`` dataframe, like the ones we've loaded in the\nfirst part of this tutorial.\n\nNext, we should specify the ``design_factor``, i.e. the column of the ``clinical``\ndataframe that will be used to compare samples. This can be a single string as above,\nor a list of strings, as in the\n`section on multifactor analysis<multifactor_ref>`.\n\n<div class=\"alert alert-info\"><h4>Note</h4><p>The ``\"condition\"`` argument passed to ``design_factors`` corresponds to a column\n  from the ``clinical_df`` dataframe we loaded earlier.\n  You might need to change it according to your own dataset.</p></div>\n\nSeveral other arguments may be optionally specified (see the :doc:`API documentation\n</api/docstrings/pydeseq2.dds.DeseqDataSet>`).\nAmong those, the ``refit_cooks`` argument (set to ``True`` by default), controls\nwhether Cooks outlier should be refitted (which is advised, in general) and ``n_cpus``\nsets the number of CPUs to use for computation. Here, we use 8 threads. Feel free to\nadapt this to your setup or to set to ``None`` to use all available CPUs.\n\n<div class=\"alert alert-info\"><h4>Note</h4><p>In the case of the provided synthetic data, there won't be any Cooks outliers.</p></div>\n\nOnce a :class:`DeseqDataSet` was initialized,\nwe may run the :meth:`deseq2() <DeseqDataSet.deseq2>` method\nto fit dispersions and LFCs.\n\n\n\n"
      ]
    },
    {
      "cell_type": "code",
      "execution_count": null,
      "metadata": {
        "collapsed": false
      },
      "outputs": [],
      "source": [
        "dds.deseq2()\n\n\nif SAVE:\n    with open(os.path.join(OUTPUT_PATH, \"dds.pkl\"), \"wb\") as f:\n        pkl.dump(dds, f)"
      ]
    },
    {
      "cell_type": "markdown",
      "metadata": {},
      "source": [
        "If needed, we may now access the fitted dispersions and LFCs (in natural log scale):\n\n"
      ]
    },
    {
      "cell_type": "code",
      "execution_count": null,
      "metadata": {
        "collapsed": false
      },
      "outputs": [],
      "source": [
        "print(dds.dispersions)"
      ]
    },
    {
      "cell_type": "code",
      "execution_count": null,
      "metadata": {
        "collapsed": false
      },
      "outputs": [],
      "source": [
        "print(dds.LFCs)"
      ]
    },
    {
      "cell_type": "markdown",
      "metadata": {},
      "source": [
        ".. currentmodule:: pydeseq2.ds\n\n### Statistical analysis with the :class:`DeseqStats` class\n\nNow that dispersions and LFCs were fitted, we may proceed with statistical tests to\ncompute p-values and adjusted p-values for differential expresion. This is the role of\nthe :class:`DeseqStats` class. It has a unique mandatory argument, ``dds``, which\nshould be a *fitted* :class:`DeseqDataSet <pydeseq2.dds.DeseqDataSet>`\nobject.\n\n"
      ]
    },
    {
      "cell_type": "code",
      "execution_count": null,
      "metadata": {
        "collapsed": false
      },
      "outputs": [],
      "source": [
        "stat_res = DeseqStats(dds, n_cpus=8)"
      ]
    },
    {
      "cell_type": "markdown",
      "metadata": {},
      "source": [
        "It also has a set of optional keyword arguments (see the :doc:`API documentation\n</api/docstrings/pydeseq2.ds.DeseqStats>`), among which:\n\n- ``alpha``: the p-value and adjusted p-value significance threshold (``0.05``\n  by default),\n- ``cooks_filter``: whether to filter p-values based on cooks outliers\n  (``True`` by default),\n- ``independent_filter``: whether to perform independent filtering to correct\n  p-value trends (``True`` by default).\n\nIn the `section on multifactor analysis<multifactor_ref>`, we will also see how\nto use the ``contrast`` argument to specify according to which variable samples should\nbe compared.\n\n"
      ]
    },
    {
      "cell_type": "markdown",
      "metadata": {},
      "source": [
        "\n#### Wald test\n\nPyDESeq2 computes p-values using Wald tests. This can be done using the\n:meth:`summary() <DeseqStats.summary>` method, which runs the whole statistical\nanalysis, cooks filtering and multiple testing adjustement included.\n\n"
      ]
    },
    {
      "cell_type": "code",
      "execution_count": null,
      "metadata": {
        "collapsed": false
      },
      "outputs": [],
      "source": [
        "stat_res.summary()\n\nif SAVE:\n    with open(os.path.join(OUTPUT_PATH, \"stat_results.pkl\"), \"wb\") as f:\n        pkl.dump(stat_res, f)"
      ]
    },
    {
      "cell_type": "markdown",
      "metadata": {},
      "source": [
        "The results are then stored in the ``results_df`` attribute (``stat_res.results_df``).\n\n"
      ]
    },
    {
      "cell_type": "markdown",
      "metadata": {},
      "source": [
        "#### LFC shrinkage\n\nFor visualization or post-processing purposes, it might be suitable to perform\nLFC shrinkage. This is implemented by the :meth:`lfc_shrink() <DeseqStats.lfc_shrink>`\nmethod.\n\n"
      ]
    },
    {
      "cell_type": "code",
      "execution_count": null,
      "metadata": {
        "collapsed": false
      },
      "outputs": [],
      "source": [
        "stat_res.lfc_shrink()\n\nif SAVE:\n    with open(os.path.join(OUTPUT_PATH, \"shrunk_stat_results.pkl\"), \"wb\") as f:\n        pkl.dump(stat_res, f)"
      ]
    },
    {
      "cell_type": "markdown",
      "metadata": {},
      "source": [
        "<div class=\"alert alert-info\"><h4>Note</h4><p>Running :meth:`lfc_shrink() <DeseqStats.lfc_shrink>` will overwrite a\n  :class:`DeseqStats`' log fold changes (and standard errors) with shrunk values.\n  This can be checked using the ``shrunk_LFCs`` flag.</p></div>\n\n\n"
      ]
    },
    {
      "cell_type": "code",
      "execution_count": null,
      "metadata": {
        "collapsed": false
      },
      "outputs": [],
      "source": [
        "print(stat_res.shrunk_LFCs)  # Will be True only if lfc_shrink() was run."
      ]
    },
    {
      "cell_type": "markdown",
      "metadata": {},
      "source": [
        "\n## Multifactor analysis\n\n.. currentmodule:: pydeseq2.dds\n\nSo far, we have only used the ``condition`` column of ``clinical_df``, which divides\nsamples between conditions ``A`` and ``B``. Yet, ``clinical_df`` contains second\ncolumn, which separates samples according to ``group`` ``X`` and ``Y``.\n\n"
      ]
    },
    {
      "cell_type": "code",
      "execution_count": null,
      "metadata": {
        "collapsed": false
      },
      "outputs": [],
      "source": [
        "print(clinical_df)"
      ]
    },
    {
      "cell_type": "markdown",
      "metadata": {},
      "source": [
        "The goal of multifactor analysis is to use *both* variables to fit LFCs.\n\n### Read counts modeling\n\nTo perform multifactor analysis with PyDESeq2, we start by inializing a\n:class:`DeseqDataSet` as previously, but we provide the list of variables we would like\nto use in the ``design_factors`` argument.\n\n\n"
      ]
    },
    {
      "cell_type": "code",
      "execution_count": null,
      "metadata": {
        "collapsed": false
      },
      "outputs": [],
      "source": [
        "dds = DeseqDataSet(\n    counts_df,\n    clinical_df,\n    design_factors=[\"group\", \"condition\"],\n    refit_cooks=True,\n    n_cpus=8,\n)"
      ]
    },
    {
      "cell_type": "markdown",
      "metadata": {},
      "source": [
        "<div class=\"alert alert-info\"><h4>Note</h4><p>By default, the last variable in the list (here, ``\"condition\"``) will be the one for\n  which LFCs and p-values will be displayed, but this may be changed later on when\n  performing the statistical analysis.</p></div>\n\nAs for the single-factor analysis, we fit dispersions and LFCs using the\n:meth:`deseq2() <DeseqDataSet.deseq2>` method.\n\n"
      ]
    },
    {
      "cell_type": "code",
      "execution_count": null,
      "metadata": {
        "collapsed": false
      },
      "outputs": [],
      "source": [
        "dds.deseq2()"
      ]
    },
    {
      "cell_type": "markdown",
      "metadata": {},
      "source": [
        "Now, if we print log fold changes, we will have two columns in addition to the\nintercept: one corresponding to the ``group`` variable, and the other to ``condition``.\n\n"
      ]
    },
    {
      "cell_type": "code",
      "execution_count": null,
      "metadata": {
        "collapsed": false
      },
      "outputs": [],
      "source": [
        "print(dds.LFCs)"
      ]
    },
    {
      "cell_type": "markdown",
      "metadata": {},
      "source": [
        ".. currentmodule:: pydeseq2.ds\n\n### Statistical analysis\n\nP-values are computed as earlier from a :class:`DeseqStats` object with the\n:meth:`summary() <DeseqStats.summary>` method, with a new important argument:\nthe ``contrast``.\nIt is a list of three strings of the form\n``[\"variable\", \"tested level\", \"reference level\"]`` which determines which\nvariable we want to compute LFCs and pvalues for.\nAs an example, to compare the condition B to the condition A, we set\n``contrast=[\"condition\", \"B\", \"A\"]``.\n\n\n"
      ]
    },
    {
      "cell_type": "code",
      "execution_count": null,
      "metadata": {
        "collapsed": false
      },
      "outputs": [],
      "source": [
        "stat_res_B_vs_A = DeseqStats(dds, contrast=[\"condition\", \"B\", \"A\"], n_cpus=8)"
      ]
    },
    {
      "cell_type": "markdown",
      "metadata": {},
      "source": [
        "<div class=\"alert alert-info\"><h4>Note</h4><p>If left blank, the variable of interest will be the last one provided in\n  the ``design_factors`` attribute of the corresponding\n  :class:`DeseqDataSet <pydeseq2.dds.DeseqDataSet>` object,\n  and the reference level will be picked alphabetically.\n  In any case, *both variables are still used*. This is due to the fact that ``dds``\n  was fit with both as design factors.</p></div>\n\nLet us fit p-values:\n\n\n"
      ]
    },
    {
      "cell_type": "code",
      "execution_count": null,
      "metadata": {
        "collapsed": false
      },
      "outputs": [],
      "source": [
        "stat_res_B_vs_A.summary()"
      ]
    },
    {
      "cell_type": "markdown",
      "metadata": {},
      "source": [
        "As we can see, although we are comparing the same cohorts (condition B vs A), the\nresults differ from the `single-factor analysis <wald_ref>`. This is because the\nmodel uses information from both the ``condition`` and ``group`` variables.\n\nLet us now evaluate differential expression according to group Y vs X. To do so,\nwe create a new :class:`DeseqStats` from the same\n:class:`DeseqDataSet <pydeseq2.dds.DeseqDataSet>`\nwith ``contrast=[\"group\", \"Y\", \"X\"]``, and run the analysis again.\n\n"
      ]
    },
    {
      "cell_type": "code",
      "execution_count": null,
      "metadata": {
        "collapsed": false
      },
      "outputs": [],
      "source": [
        "stat_res_Y_vs_X = DeseqStats(dds, contrast=[\"group\", \"Y\", \"X\"], n_cpus=8)\nstat_res_Y_vs_X.summary()"
      ]
    },
    {
      "cell_type": "markdown",
      "metadata": {},
      "source": [
        "#### LFC shrinkage (multifactor)\n\nIn a multifactor setting, LFC shrinkage works as in the single-factor case, but will\nonly shrink the LFCs of a :class:`DeseqStats` object based on its\n``contrast`` argument.\n\n"
      ]
    },
    {
      "cell_type": "code",
      "execution_count": null,
      "metadata": {
        "collapsed": false
      },
      "outputs": [],
      "source": [
        "stat_res_B_vs_A.lfc_shrink()"
      ]
    }
  ],
  "metadata": {
    "kernelspec": {
      "display_name": "Python 3",
      "language": "python",
      "name": "python3"
    },
    "language_info": {
      "codemirror_mode": {
        "name": "ipython",
        "version": 3
      },
      "file_extension": ".py",
      "mimetype": "text/x-python",
      "name": "python",
      "nbconvert_exporter": "python",
      "pygments_lexer": "ipython3",
      "version": "3.10.5"
    }
  },
  "nbformat": 4,
  "nbformat_minor": 0
}