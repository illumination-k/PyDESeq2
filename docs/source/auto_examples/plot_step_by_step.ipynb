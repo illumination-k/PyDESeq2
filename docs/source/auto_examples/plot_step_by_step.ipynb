{
  "cells": [
    {
      "cell_type": "code",
      "execution_count": null,
      "metadata": {
        "collapsed": false
      },
      "outputs": [],
      "source": [
        "%matplotlib inline"
      ]
    },
    {
      "cell_type": "markdown",
      "metadata": {},
      "source": [
        "\n# Step-by-step PyDESeq2 workflow\n\nThis notebook details all the steps of the PyDESeq2 pipeline.\n\nIt allows you to run the PyDESeq2 pipeline on the synthetic data provided\nin this repository.\n\nIf this is your first contact with PyDESeq2, we recommend you first have a look at the\n:doc:`standard workflow example <plot_minimal_pydeseq2_pipeline>`.\n    :depth: 3\n\nWe start by importing required packages and setting up an optional path to save\nresults.\n"
      ]
    },
    {
      "cell_type": "code",
      "execution_count": null,
      "metadata": {
        "collapsed": false
      },
      "outputs": [],
      "source": [
        "import os\nimport pickle as pkl\n\nfrom pydeseq2.dds import DeseqDataSet\nfrom pydeseq2.ds import DeseqStats\nfrom pydeseq2.utils import load_example_data\n\nSAVE = False  # whether to save the outputs of this notebook\n\nif SAVE:\n    # Replace this with the path to directory where you would like results to be\n    # saved\n    OUTPUT_PATH = \"../output_files/synthetic_example\"\n    os.makedirs(OUTPUT_PATH, exist_ok=True)  # Create path if it doesn't exist"
      ]
    },
    {
      "cell_type": "markdown",
      "metadata": {},
      "source": [
        "## Data loading\n\nNote that we are also explaining this step in the 'getting started' example.\nTo perform differential expression analysis (DEA), PyDESeq2 requires two types of\ninputs:\n\n  * A count matrix of shape 'number of samples' x 'number of genes', containing\n    read counts (non-negative integers),\n  * Clinical data (or \"column\" data) of shape 'number of samples' x\n    'number of variables', containing sample annotations that will be used\n    to split the data in cohorts.\n\nBoth should be provided as [pandas dataframes](https://pandas.pydata.org/docs/reference/api/pandas.DataFrame.html).\n\n.. currentmodule:: pydeseq2\n\nTo illustrate the required data format, we load a synthetic example dataset\nthat may be\nobtained through PyDESeq2's API using :func:`utils.load_example_data`.\nYou may replace it with your own dataset.\n\n"
      ]
    },
    {
      "cell_type": "code",
      "execution_count": null,
      "metadata": {
        "collapsed": false
      },
      "outputs": [],
      "source": [
        "counts_df = load_example_data(\n    modality=\"raw_counts\",\n    dataset=\"synthetic\",\n    debug=False,\n)\n\nclinical_df = load_example_data(\n    modality=\"clinical\",\n    dataset=\"synthetic\",\n    debug=False,\n)"
      ]
    },
    {
      "cell_type": "markdown",
      "metadata": {},
      "source": [
        "## 1. Read counts modeling\nRead counts modeling with the :class:`DeseqDataSet\n<dds.DeseqDataSet>` class\n\nThe :class:`DeseqDataSet <dds.DeseqDataSet>` class has two mandatory\narguments, `counts_df` and\n`clinical_df`, as well as a set of optional keyword arguments, among which:\n\n- `design_factor`: the name of the column of clinical to be used as a design\n  variable\n- `refit_cooks`: whether to refit cooks outliers \u2013 this is advised, in general.\n\n<div class=\"alert alert-info\"><h4>Note</h4><p>in the case of the provided synthetic data, there won't be any Cooks\n  outliers.</p></div>\n\n"
      ]
    },
    {
      "cell_type": "code",
      "execution_count": null,
      "metadata": {
        "collapsed": false
      },
      "outputs": [],
      "source": [
        "dds = DeseqDataSet(\n    counts_df,\n    clinical_df,\n    design_factors=\"condition\",  # compare samples based on the \"condition\"\n    # column (\"B\" vs \"A\")\n    refit_cooks=True,\n    n_cpus=8,\n)"
      ]
    },
    {
      "cell_type": "markdown",
      "metadata": {},
      "source": [
        "### Compute normalization factors\n\n"
      ]
    },
    {
      "cell_type": "code",
      "execution_count": null,
      "metadata": {
        "collapsed": false
      },
      "outputs": [],
      "source": [
        "dds.fit_size_factors()\n\ndds.size_factors"
      ]
    },
    {
      "cell_type": "markdown",
      "metadata": {},
      "source": [
        "### Fit genewise dispersions\n\n"
      ]
    },
    {
      "cell_type": "code",
      "execution_count": null,
      "metadata": {
        "collapsed": false
      },
      "outputs": [],
      "source": [
        "dds.fit_genewise_dispersions()\n\ndds.genewise_dispersions"
      ]
    },
    {
      "cell_type": "markdown",
      "metadata": {},
      "source": [
        "### Fit dispersion trend coefficients\n\n"
      ]
    },
    {
      "cell_type": "code",
      "execution_count": null,
      "metadata": {
        "collapsed": false
      },
      "outputs": [],
      "source": [
        "dds.fit_dispersion_trend()\ndds.trend_coeffs\ndds.fitted_dispersions"
      ]
    },
    {
      "cell_type": "markdown",
      "metadata": {},
      "source": [
        "### Dispersion priors\n\n"
      ]
    },
    {
      "cell_type": "code",
      "execution_count": null,
      "metadata": {
        "collapsed": false
      },
      "outputs": [],
      "source": [
        "dds.fit_dispersion_prior()\nprint(f\"logres_prior={dds._squared_logres}, sigma_prior={dds.prior_disp_var}\")"
      ]
    },
    {
      "cell_type": "markdown",
      "metadata": {},
      "source": [
        "### MAP Dispersions\nThe `fit_MAP_dispersions` method filters the genes for which\u00a0dispersion\nshrinkage is applied.\nIndeed, for genes whose MLE dispersions are too high above the trend curve,\nthe original MLE value is kept.\nThe final values of the dispersions that are used for downstream analysis is\nstored in `dds.dispersions`.\n\n"
      ]
    },
    {
      "cell_type": "code",
      "execution_count": null,
      "metadata": {
        "collapsed": false
      },
      "outputs": [],
      "source": [
        "dds.fit_MAP_dispersions()\ndds.MAP_dispersions\ndds.dispersions"
      ]
    },
    {
      "cell_type": "markdown",
      "metadata": {},
      "source": [
        "### Fit log fold changes\nNote that in the `DeseqDataSet` object, the log-fold changes are stored in\nnatural\nlog scale, but that the results dataframe output by the `summary` method of\n`DeseqStats` displays LFCs in log2 scale (see later on).\n\n"
      ]
    },
    {
      "cell_type": "code",
      "execution_count": null,
      "metadata": {
        "collapsed": false
      },
      "outputs": [],
      "source": [
        "dds.fit_LFC()\ndds.LFCs"
      ]
    },
    {
      "cell_type": "markdown",
      "metadata": {},
      "source": [
        "### Calculate Cooks distances and refit\nNote that this step is optional.\n\n"
      ]
    },
    {
      "cell_type": "code",
      "execution_count": null,
      "metadata": {
        "collapsed": false
      },
      "outputs": [],
      "source": [
        "dds.calculate_cooks()\nif dds.refit_cooks:\n    # Replace outlier counts\n    dds.refit()"
      ]
    },
    {
      "cell_type": "markdown",
      "metadata": {},
      "source": [
        "Save everything\n\n"
      ]
    },
    {
      "cell_type": "code",
      "execution_count": null,
      "metadata": {
        "collapsed": false
      },
      "outputs": [],
      "source": [
        "if SAVE:\n    with open(os.path.join(OUTPUT_PATH, \"dds_detailed_pipe.pkl\"), \"wb\") as f:\n        pkl.dump(dds, f)"
      ]
    },
    {
      "cell_type": "markdown",
      "metadata": {},
      "source": [
        "## 2. Statistical analysis\nStatistical analysis with the :class:`DeseqStats <ds.DeseqStats>` class.\nThe `DeseqDataSet` class has a unique mandatory arguments, `dds`, which should\nbe a *fitted* `DeseqDataSet` object, as well as a set of optional keyword\narguments, among which:\n\n- `alpha`: the p-value and adjusted p-value significance threshold\n- `cooks_filter`: whether to filter p-values based on cooks outliers\n- `independent_filter`: whether to perform independent filtering to correct\n  p-value trends.\n\n"
      ]
    },
    {
      "cell_type": "code",
      "execution_count": null,
      "metadata": {
        "collapsed": false
      },
      "outputs": [],
      "source": [
        "stat_res = DeseqStats(dds, alpha=0.05, cooks_filter=True, independent_filter=True)"
      ]
    },
    {
      "cell_type": "markdown",
      "metadata": {},
      "source": [
        "### Wald tests\n\n"
      ]
    },
    {
      "cell_type": "code",
      "execution_count": null,
      "metadata": {
        "collapsed": false
      },
      "outputs": [],
      "source": [
        "stat_res.run_wald_test()\nstat_res.p_values"
      ]
    },
    {
      "cell_type": "markdown",
      "metadata": {},
      "source": [
        "### Cooks filtering\nThis is optional\n\n<div class=\"alert alert-info\"><h4>Note</h4><p>Note: in the case of the provided synthetic data, there won't be any\n  outliers.</p></div>\n\n"
      ]
    },
    {
      "cell_type": "code",
      "execution_count": null,
      "metadata": {
        "collapsed": false
      },
      "outputs": [],
      "source": [
        "if stat_res.cooks_filter:\n    stat_res._cooks_filtering()\nstat_res.p_values"
      ]
    },
    {
      "cell_type": "markdown",
      "metadata": {},
      "source": [
        "### P-value adjustment\n\n"
      ]
    },
    {
      "cell_type": "code",
      "execution_count": null,
      "metadata": {
        "collapsed": false
      },
      "outputs": [],
      "source": [
        "if stat_res.independent_filter:\n    stat_res._independent_filtering()\nelse:\n    stat_res._p_value_adjustment()\n\nstat_res.padj"
      ]
    },
    {
      "cell_type": "markdown",
      "metadata": {},
      "source": [
        "### Building a results dataframe\nThis dataframe is stored in the `results_df` attribute of the `DeseqStats`\nclass.\n\n"
      ]
    },
    {
      "cell_type": "code",
      "execution_count": null,
      "metadata": {
        "collapsed": false
      },
      "outputs": [],
      "source": [
        "stat_res.summary()"
      ]
    },
    {
      "cell_type": "markdown",
      "metadata": {},
      "source": [
        "Save everything if SAVE is set to True\n\n"
      ]
    },
    {
      "cell_type": "code",
      "execution_count": null,
      "metadata": {
        "collapsed": false
      },
      "outputs": [],
      "source": [
        "if SAVE:\n    with open(os.path.join(OUTPUT_PATH, \"stat_results_detailed_pipe.pkl\"), \"wb\") as f:\n        pkl.dump(stat_res, f)"
      ]
    },
    {
      "cell_type": "markdown",
      "metadata": {},
      "source": [
        "### LFC Shrinkage\nFor visualization or post-processing purposes, it might be suitable to perform\nLFC shrinkage. This is implemented by the `lfc_shrink` method.\n\n"
      ]
    },
    {
      "cell_type": "code",
      "execution_count": null,
      "metadata": {
        "collapsed": false
      },
      "outputs": [],
      "source": [
        "stat_res.lfc_shrink()"
      ]
    },
    {
      "cell_type": "markdown",
      "metadata": {},
      "source": [
        "Save everything\n\n"
      ]
    },
    {
      "cell_type": "code",
      "execution_count": null,
      "metadata": {
        "collapsed": false
      },
      "outputs": [],
      "source": [
        "if SAVE:\n    with open(\n        os.path.join(OUTPUT_PATH, \"shrunk_stat_results_detailed_pipe.pkl\"), \"wb\"\n    ) as f:\n        pkl.dump(stat_res, f)"
      ]
    }
  ],
  "metadata": {
    "kernelspec": {
      "display_name": "Python 3",
      "language": "python",
      "name": "python3"
    },
    "language_info": {
      "codemirror_mode": {
        "name": "ipython",
        "version": 3
      },
      "file_extension": ".py",
      "mimetype": "text/x-python",
      "name": "python",
      "nbconvert_exporter": "python",
      "pygments_lexer": "ipython3",
      "version": "3.10.5"
    }
  },
  "nbformat": 4,
  "nbformat_minor": 0
}